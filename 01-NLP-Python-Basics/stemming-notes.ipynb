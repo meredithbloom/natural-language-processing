{
 "cells": [
  {
   "cell_type": "code",
   "execution_count": 1,
   "id": "10a79922",
   "metadata": {},
   "outputs": [],
   "source": [
    "# STEMMING - crude method for cataloging related words\n",
    "# basically just slices off end of words until it finds base\n",
    "# spacy opts to use lemmatization instead of stemming, so we need to use \n",
    "# NLTK for this"
   ]
  },
  {
   "cell_type": "code",
   "execution_count": 2,
   "id": "ff2d81a8",
   "metadata": {},
   "outputs": [],
   "source": [
    "# most common and effective stemming tool is\n",
    "# PORTER's ALGORITHM - employs 5 phases of word reduction, each with \n",
    "# own set of mapping rules"
   ]
  },
  {
   "cell_type": "code",
   "execution_count": 7,
   "id": "d6c6ea86",
   "metadata": {},
   "outputs": [],
   "source": [
    "import nltk"
   ]
  },
  {
   "cell_type": "code",
   "execution_count": 8,
   "id": "82247053",
   "metadata": {},
   "outputs": [],
   "source": [
    "from nltk.stem.porter import PorterStemmer"
   ]
  },
  {
   "cell_type": "code",
   "execution_count": 10,
   "id": "5437da54",
   "metadata": {},
   "outputs": [],
   "source": [
    "p_stemmer = PorterStemmer()"
   ]
  },
  {
   "cell_type": "code",
   "execution_count": 17,
   "id": "449c5021",
   "metadata": {},
   "outputs": [],
   "source": [
    "words = ['run', 'runner', 'ran', 'runs', 'easily', 'fairly', 'fairness']"
   ]
  },
  {
   "cell_type": "code",
   "execution_count": 18,
   "id": "5365575d",
   "metadata": {},
   "outputs": [
    {
     "name": "stdout",
     "output_type": "stream",
     "text": [
      "run-----> run\n",
      "runner-----> runner\n",
      "ran-----> ran\n",
      "runs-----> run\n",
      "easily-----> easili\n",
      "fairly-----> fairli\n",
      "fairness-----> fair\n"
     ]
    }
   ],
   "source": [
    "for word in words:\n",
    "    print(word + '-----> ' + p_stemmer.stem(word))"
   ]
  },
  {
   "cell_type": "code",
   "execution_count": 19,
   "id": "a9c17e4d",
   "metadata": {},
   "outputs": [],
   "source": [
    "from nltk.stem.snowball import SnowballStemmer"
   ]
  },
  {
   "cell_type": "code",
   "execution_count": 20,
   "id": "8b9a0813",
   "metadata": {},
   "outputs": [],
   "source": [
    "s_stemmer = SnowballStemmer(language='english')"
   ]
  },
  {
   "cell_type": "code",
   "execution_count": 21,
   "id": "a784a44e",
   "metadata": {},
   "outputs": [
    {
     "name": "stdout",
     "output_type": "stream",
     "text": [
      "run ----> run\n",
      "runner ----> runner\n",
      "ran ----> ran\n",
      "runs ----> run\n",
      "easily ----> easili\n",
      "fairly ----> fair\n",
      "fairness ----> fair\n"
     ]
    }
   ],
   "source": [
    "for word in words:\n",
    "    print(word + ' ----> ' + s_stemmer.stem(word))"
   ]
  },
  {
   "cell_type": "code",
   "execution_count": 22,
   "id": "ece5d145",
   "metadata": {},
   "outputs": [],
   "source": [
    "words2 = ['generous', 'generation', 'generously', 'generate']"
   ]
  },
  {
   "cell_type": "code",
   "execution_count": 23,
   "id": "4855d697",
   "metadata": {},
   "outputs": [
    {
     "name": "stdout",
     "output_type": "stream",
     "text": [
      "generous-----> gener\n",
      "generation-----> gener\n",
      "generously-----> gener\n",
      "generate-----> gener\n"
     ]
    }
   ],
   "source": [
    "for word in words2:\n",
    "    print(word + '-----> ' + p_stemmer.stem(word))"
   ]
  },
  {
   "cell_type": "code",
   "execution_count": 24,
   "id": "4349de47",
   "metadata": {},
   "outputs": [
    {
     "name": "stdout",
     "output_type": "stream",
     "text": [
      "generous ----> generous\n",
      "generation ----> generat\n",
      "generously ----> generous\n",
      "generate ----> generat\n"
     ]
    }
   ],
   "source": [
    "for word in words2:\n",
    "    print(word + ' ----> ' + s_stemmer.stem(word))"
   ]
  },
  {
   "cell_type": "code",
   "execution_count": null,
   "id": "32a89f52",
   "metadata": {},
   "outputs": [],
   "source": []
  }
 ],
 "metadata": {
  "kernelspec": {
   "display_name": "Python 3 (ipykernel)",
   "language": "python",
   "name": "python3"
  },
  "language_info": {
   "codemirror_mode": {
    "name": "ipython",
    "version": 3
   },
   "file_extension": ".py",
   "mimetype": "text/x-python",
   "name": "python",
   "nbconvert_exporter": "python",
   "pygments_lexer": "ipython3",
   "version": "3.7.13"
  }
 },
 "nbformat": 4,
 "nbformat_minor": 5
}
