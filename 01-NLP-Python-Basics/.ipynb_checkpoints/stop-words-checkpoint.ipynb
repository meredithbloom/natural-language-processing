{
 "cells": [
  {
   "cell_type": "code",
   "execution_count": 1,
   "id": "f16778e3",
   "metadata": {},
   "outputs": [],
   "source": [
    "import spacy"
   ]
  },
  {
   "cell_type": "code",
   "execution_count": 2,
   "id": "e22335e4",
   "metadata": {},
   "outputs": [],
   "source": [
    "nlp = spacy.load('en')"
   ]
  },
  {
   "cell_type": "code",
   "execution_count": 3,
   "id": "996599db",
   "metadata": {},
   "outputs": [
    {
     "name": "stdout",
     "output_type": "stream",
     "text": [
      "{'himself', 'so', 'enough', 'nor', 'through', 'nobody', 'towards', 'however', 'also', 'first', 'here', 'whenever', 'it', 'whoever', 'on', 'afterwards', 'least', 'someone', 'each', 'their', 'us', 'whether', 'nowhere', 'thereupon', 'always', 'per', 'behind', 'thence', 'we', 'them', 'therein', 'often', 'besides', 'she', 'show', 'due', 'very', 'else', 'hundred', 'together', 'whereafter', 'though', 'put', 'toward', 'whither', 'former', 'two', 'call', 'because', 'twelve', 'rather', 'empty', 'mostly', 'doing', 'of', 'amount', 'seemed', 'along', 'thru', 'beyond', 'hereafter', 'have', 'keep', 'how', 'quite', 'everywhere', 'he', 'is', 'please', 'to', 'give', 'amongst', 'moreover', 'am', 'between', 'throughout', 'at', 'almost', 'below', 'can', 'does', 'what', 'becomes', 'cannot', 'itself', 'not', 'among', 'various', 'has', 'sometimes', 'done', 'anyhow', 'no', 'than', 'eleven', 'or', 'bottom', 'only', 'when', 'hence', 'nevertheless', 'i', 'until', 'during', 'further', 'nine', 'thus', 'using', 'onto', 'sixty', 'third', 'both', 'otherwise', 'seem', 'still', 'anywhere', 'none', 'been', 'while', 'regarding', 'same', 'under', 'few', 'neither', 'forty', 'why', 'front', 'namely', 'formerly', 'ourselves', 'seeming', 'hereby', 'three', 'whereas', 'with', 'your', 'that', 'ca', 'being', 'about', 'will', 'alone', 'anything', 'either', 'whereupon', 'beside', 'make', 'herself', 'take', 'against', 'an', 'indeed', 'latterly', 'from', 'see', 'via', 'whence', 'might', 'anyway', 'now', 'up', 'latter', 'whatever', 'next', 'yours', 'you', 'him', 'nothing', 'are', 'would', 'into', 'once', 'ten', 'be', 'most', 'those', 'therefore', 'wherever', 'side', 'another', 'get', 'much', 'they', 'across', 'down', 'name', 'my', 'really', 'since', 'the', 'may', 'seems', 'a', 'was', 'everything', 'and', 'go', 'must', 'ours', 'could', 'thereby', 'out', 'sometime', 'were', 'serious', 'there', 'mine', 'our', 'whereby', 'myself', 'but', 'less', 'herein', 'other', 'above', 'already', 'any', 'beforehand', 'these', 'hereupon', 'made', 'by', 'whose', 'within', 'without', 'except', 'where', 'for', 'yourselves', 'well', 'others', 'whole', 're', 'becoming', 'many', 'then', 'one', 'say', 'after', 'this', 'top', 'somewhere', 'became', 'which', 'move', 'its', 'whom', 'his', 'around', 'every', 'fifty', 'off', 'if', 'full', 'part', 'somehow', 'noone', 'had', 'over', 'anyone', 'everyone', 'did', 'do', 'her', 'own', 'such', 'thereafter', 'some', 'twenty', 'just', 'even', 'wherein', 'eight', 'ever', 'me', 'unless', 'four', 'perhaps', 'more', 'upon', 'used', 'yourself', 'all', 'become', 'although', 'five', 'elsewhere', 'as', 'something', 'yet', 'several', 'too', 'should', 'last', 'never', 'meanwhile', 'hers', 'before', 'fifteen', 'six', 'back', 'themselves', 'who', 'in', 'again'}\n"
     ]
    }
   ],
   "source": [
    "print(nlp.Defaults.stop_words)"
   ]
  },
  {
   "cell_type": "code",
   "execution_count": 4,
   "id": "e80d8259",
   "metadata": {},
   "outputs": [
    {
     "data": {
      "text/plain": [
       "305"
      ]
     },
     "execution_count": 4,
     "metadata": {},
     "output_type": "execute_result"
    }
   ],
   "source": [
    "len(nlp.Defaults.stop_words)"
   ]
  },
  {
   "cell_type": "code",
   "execution_count": 6,
   "id": "20b53c87",
   "metadata": {},
   "outputs": [
    {
     "data": {
      "text/plain": [
       "True"
      ]
     },
     "execution_count": 6,
     "metadata": {},
     "output_type": "execute_result"
    }
   ],
   "source": [
    "nlp.vocab['something'].is_stop"
   ]
  },
  {
   "cell_type": "code",
   "execution_count": 7,
   "id": "9beb90a2",
   "metadata": {},
   "outputs": [
    {
     "data": {
      "text/plain": [
       "False"
      ]
     },
     "execution_count": 7,
     "metadata": {},
     "output_type": "execute_result"
    }
   ],
   "source": [
    "nlp.vocab['mystery'].is_stop"
   ]
  },
  {
   "cell_type": "code",
   "execution_count": 8,
   "id": "adc23d9e",
   "metadata": {},
   "outputs": [],
   "source": [
    "# if we want to ADD a stop word for our particular data set..."
   ]
  },
  {
   "cell_type": "code",
   "execution_count": 11,
   "id": "e891343e",
   "metadata": {},
   "outputs": [],
   "source": [
    "# add to set using standard set addition syntax. set ensures there are no duplicates\n",
    "nlp.Defaults.stop_words.add('btw')"
   ]
  },
  {
   "cell_type": "code",
   "execution_count": 12,
   "id": "d92fd3ab",
   "metadata": {},
   "outputs": [],
   "source": [
    "# need to manually set to true\n",
    "nlp.vocab['btw'].is_stop = True"
   ]
  },
  {
   "cell_type": "code",
   "execution_count": 13,
   "id": "689f6ec4",
   "metadata": {},
   "outputs": [
    {
     "data": {
      "text/plain": [
       "True"
      ]
     },
     "execution_count": 13,
     "metadata": {},
     "output_type": "execute_result"
    }
   ],
   "source": [
    "nlp.vocab['btw'].is_stop"
   ]
  },
  {
   "cell_type": "code",
   "execution_count": 14,
   "id": "fe76b0a3",
   "metadata": {},
   "outputs": [],
   "source": [
    "# if we want to REMOVE a stop word..."
   ]
  },
  {
   "cell_type": "code",
   "execution_count": 18,
   "id": "ff5d780f",
   "metadata": {},
   "outputs": [],
   "source": [
    "# using standard set removal syntax\n",
    "nlp.Defaults.stop_words.remove('anyone')"
   ]
  },
  {
   "cell_type": "code",
   "execution_count": 19,
   "id": "c0282a28",
   "metadata": {},
   "outputs": [],
   "source": [
    "# manually set to false\n",
    "nlp.vocab['anyone'].is_stop = False"
   ]
  },
  {
   "cell_type": "code",
   "execution_count": null,
   "id": "8bb8ee77",
   "metadata": {},
   "outputs": [],
   "source": []
  }
 ],
 "metadata": {
  "kernelspec": {
   "display_name": "Python 3 (ipykernel)",
   "language": "python",
   "name": "python3"
  },
  "language_info": {
   "codemirror_mode": {
    "name": "ipython",
    "version": 3
   },
   "file_extension": ".py",
   "mimetype": "text/x-python",
   "name": "python",
   "nbconvert_exporter": "python",
   "pygments_lexer": "ipython3",
   "version": "3.7.13"
  }
 },
 "nbformat": 4,
 "nbformat_minor": 5
}
