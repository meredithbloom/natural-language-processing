{
 "cells": [
  {
   "cell_type": "markdown",
   "metadata": {},
   "source": [
    "___\n",
    "\n",
    "<a href='http://www.pieriandata.com'> <img src='../Pierian_Data_Logo.png' /></a>\n",
    "___"
   ]
  },
  {
   "cell_type": "markdown",
   "metadata": {},
   "source": [
    "# NLP Basics Assessment"
   ]
  },
  {
   "cell_type": "markdown",
   "metadata": {},
   "source": [
    "For this assessment we'll be using the short story [_An Occurrence at Owl Creek Bridge_](https://en.wikipedia.org/wiki/An_Occurrence_at_Owl_Creek_Bridge) by Ambrose Bierce (1890). <br>The story is in the public domain; the text file was obtained from [Project Gutenberg](https://www.gutenberg.org/ebooks/375.txt.utf-8)."
   ]
  },
  {
   "cell_type": "code",
   "execution_count": 1,
   "metadata": {},
   "outputs": [],
   "source": [
    "# RUN THIS CELL to perform standard imports:\n",
    "import spacy\n",
    "nlp = spacy.load('en_core_web_sm')"
   ]
  },
  {
   "cell_type": "markdown",
   "metadata": {},
   "source": [
    "**1. Create a Doc object from the file `owlcreek.txt`**<br>\n",
    "> HINT: Use `with open('../TextFiles/owlcreek.txt') as f:`"
   ]
  },
  {
   "cell_type": "code",
   "execution_count": 2,
   "metadata": {},
   "outputs": [],
   "source": [
    "# Enter your code here:\n",
    "with open('../TextFiles/owlcreek.txt') as f:\n",
    "    doc = nlp(f.read())\n"
   ]
  },
  {
   "cell_type": "code",
   "execution_count": 3,
   "metadata": {},
   "outputs": [
    {
     "data": {
      "text/plain": [
       "AN OCCURRENCE AT OWL CREEK BRIDGE\n",
       "\n",
       "by Ambrose Bierce\n",
       "\n",
       "I\n",
       "\n",
       "A man stood upon a railroad bridge in northern Alabama, looking down\n",
       "into the swift water twenty feet below.  "
      ]
     },
     "execution_count": 3,
     "metadata": {},
     "output_type": "execute_result"
    }
   ],
   "source": [
    "# Run this cell to verify it worked:\n",
    "\n",
    "doc[:36]"
   ]
  },
  {
   "cell_type": "markdown",
   "metadata": {},
   "source": [
    "**2. How many tokens are contained in the file?**"
   ]
  },
  {
   "cell_type": "code",
   "execution_count": 5,
   "metadata": {},
   "outputs": [
    {
     "data": {
      "text/plain": [
       "4833"
      ]
     },
     "execution_count": 5,
     "metadata": {},
     "output_type": "execute_result"
    }
   ],
   "source": [
    "len(doc)"
   ]
  },
  {
   "cell_type": "markdown",
   "metadata": {},
   "source": [
    "**3. How many sentences are contained in the file?**<br>HINT: You'll want to build a list first!"
   ]
  },
  {
   "cell_type": "code",
   "execution_count": 6,
   "metadata": {},
   "outputs": [
    {
     "data": {
      "text/plain": [
       "211"
      ]
     },
     "execution_count": 6,
     "metadata": {},
     "output_type": "execute_result"
    }
   ],
   "source": [
    "sentences = []\n",
    "for sentence in doc.sents:\n",
    "    sentences.append(sentence)\n",
    "len(sentences)\n"
   ]
  },
  {
   "cell_type": "markdown",
   "metadata": {},
   "source": [
    "**4. Print the second sentence in the document**<br> HINT: Indexing starts at zero, and the title counts as the first sentence."
   ]
  },
  {
   "cell_type": "code",
   "execution_count": 7,
   "metadata": {},
   "outputs": [
    {
     "name": "stdout",
     "output_type": "stream",
     "text": [
      "A man stood upon a railroad bridge in northern Alabama, looking down\n",
      "into the swift water twenty feet below.  \n"
     ]
    }
   ],
   "source": [
    "print(sentences[1])"
   ]
  },
  {
   "cell_type": "markdown",
   "metadata": {},
   "source": [
    "** 5. For each token in the sentence above, print its `text`, `POS` tag, `dep` tag and `lemma`<br>\n",
    "CHALLENGE: Have values line up in columns in the print output.**"
   ]
  },
  {
   "cell_type": "code",
   "execution_count": 8,
   "metadata": {},
   "outputs": [
    {
     "name": "stdout",
     "output_type": "stream",
     "text": [
      "A DET det a\n",
      "man NOUN nsubj man\n",
      "stood VERB ROOT stand\n",
      "upon ADP prep upon\n",
      "a DET det a\n",
      "railroad NOUN compound railroad\n",
      "bridge NOUN pobj bridge\n",
      "in ADP prep in\n",
      "northern ADJ amod northern\n",
      "Alabama PROPN pobj alabama\n",
      ", PUNCT punct ,\n",
      "looking VERB advcl look\n",
      "down PART prt down\n",
      "\n",
      " SPACE  \n",
      "\n",
      "into ADP prep into\n",
      "the DET det the\n",
      "swift ADJ amod swift\n",
      "water NOUN pobj water\n",
      "twenty NUM nummod twenty\n",
      "feet NOUN npadvmod foot\n",
      "below ADV advmod below\n",
      ". PUNCT punct .\n",
      "  SPACE   \n"
     ]
    }
   ],
   "source": [
    "# NORMAL SOLUTION:\n",
    "for token in sentences[1]:\n",
    "    print(token.text, token.pos_, token.dep_, token.lemma_)\n"
   ]
  },
  {
   "cell_type": "code",
   "execution_count": 11,
   "metadata": {},
   "outputs": [
    {
     "name": "stdout",
     "output_type": "stream",
     "text": [
      "         A        DET        det          a\n",
      "       man       NOUN      nsubj        man\n",
      "     stood       VERB       ROOT      stand\n",
      "      upon        ADP       prep       upon\n",
      "         a        DET        det          a\n",
      "  railroad       NOUN   compound   railroad\n",
      "    bridge       NOUN       pobj     bridge\n",
      "        in        ADP       prep         in\n",
      "  northern        ADJ       amod   northern\n",
      "   Alabama      PROPN       pobj    alabama\n",
      "         ,      PUNCT      punct          ,\n",
      "   looking       VERB      advcl       look\n",
      "      down       PART        prt       down\n",
      "         \n",
      "      SPACE                     \n",
      "\n",
      "      into        ADP       prep       into\n",
      "       the        DET        det        the\n",
      "     swift        ADJ       amod      swift\n",
      "     water       NOUN       pobj      water\n",
      "    twenty        NUM     nummod     twenty\n",
      "      feet       NOUN   npadvmod       foot\n",
      "     below        ADV     advmod      below\n",
      "         .      PUNCT      punct          .\n",
      "                SPACE                      \n"
     ]
    }
   ],
   "source": [
    "# CHALLENGE SOLUTION:\n",
    "for token in sentences[1]:\n",
    "    print(f\"{token.text:>{10}} {token.pos_:>{10}} {token.dep_:>{10}} {token.lemma_:>{10}}\")\n"
   ]
  },
  {
   "cell_type": "markdown",
   "metadata": {},
   "source": [
    "**6. Write a matcher called 'Swimming' that finds both occurrences of the phrase \"swimming vigorously\" in the text**<br>\n",
    "HINT: You should include an `'IS_SPACE': True` pattern between the two words!"
   ]
  },
  {
   "cell_type": "code",
   "execution_count": 12,
   "metadata": {},
   "outputs": [],
   "source": [
    "# Import the Matcher library:\n",
    "\n",
    "from spacy.matcher import Matcher\n",
    "matcher = Matcher(nlp.vocab)"
   ]
  },
  {
   "cell_type": "code",
   "execution_count": 13,
   "metadata": {},
   "outputs": [],
   "source": [
    "# Create a pattern and add it to matcher:\n",
    "\n",
    "#swimming vigorously\n",
    "pattern = [{'LOWER': 'swimming'}, {'IS_SPACE': True}, {'LOWER':'vigorously'}]\n",
    "matcher.add('SwimmingMatcher', None, pattern)\n"
   ]
  },
  {
   "cell_type": "code",
   "execution_count": 15,
   "metadata": {},
   "outputs": [
    {
     "data": {
      "text/plain": [
       "[(12249477391609451844, 1274, 1277), (12249477391609451844, 3607, 3610)]"
      ]
     },
     "execution_count": 15,
     "metadata": {},
     "output_type": "execute_result"
    }
   ],
   "source": [
    "# Create a list of matches called \"found_matches\" and print the list:\n",
    "\n",
    "found_matches = matcher(doc)\n",
    "found_matches"
   ]
  },
  {
   "cell_type": "markdown",
   "metadata": {},
   "source": [
    "**7. Print the text surrounding each found match**"
   ]
  },
  {
   "cell_type": "code",
   "execution_count": 29,
   "metadata": {},
   "outputs": [
    {
     "name": "stdout",
     "output_type": "stream",
     "text": [
      " By diving I could evade the bullets and, swimming\n",
      "vigorously, reach the bank, take to the woods and\n"
     ]
    }
   ],
   "source": [
    "\n",
    "match_id1, start1, end1 = found_matches[0]\n",
    "span1 = doc[start1-10:end1+10]\n",
    "print(span1)"
   ]
  },
  {
   "cell_type": "code",
   "execution_count": 39,
   "metadata": {},
   "outputs": [
    {
     "data": {
      "text/plain": [
       " By diving I could evade the bullets and, swimming\n",
       "vigorously, reach the bank, take to the woods and get away home.  My\n",
       "home, thank God, is as yet outside their lines; my wife and little\n",
       "ones are still beyond the invader's farthest advance.\"\n",
       "\n",
       "As these thoughts, which have here to be set down in words, were\n",
       "flashed into the doomed man's brain rather than evolved from it the\n",
       "captain nodded to the sergeant.  The sergeant stepped aside.\n",
       "\n",
       "II\n",
       "\n",
       "Peyton Farquhar was a well to do planter, of an old and highly\n",
       "respected Alabama family.  Being a slave owner and like other slave\n",
       "owners a politician, he was naturally an original secessionist and\n",
       "ardently devoted to the Southern cause.  Circumstances of an imperious\n",
       "nature, which it is unnecessary to relate here, had prevented him from\n",
       "taking service with that gallant army which had fought the disastrous\n",
       "campaigns ending with the fall of Corinth, and he chafed under the\n",
       "inglorious restraint, longing for the release of his energies, the\n",
       "larger life of the soldier, the opportunity for distinction.  That\n",
       "opportunity, he felt, would come, as it comes to all in wartime.\n",
       "Meanwhile he did what he could.  No service was too humble for him to\n",
       "perform in the aid of the South, no adventure too perilous for him to\n",
       "undertake if consistent with the character of a civilian who was at\n",
       "heart a soldier, and who in good faith and without too much\n",
       "qualification assented to at least a part of the frankly villainous\n",
       "dictum that all is fair in love and war.\n",
       "\n",
       "One evening while Farquhar and his wife were sitting on a rustic bench\n",
       "near the entrance to his grounds, a gray-clad soldier rode up to the\n",
       "gate and asked for a drink of water. Mrs. Farquhar was only too happy\n",
       "to serve him with her own white hands.  While she was fetching the\n",
       "water her husband approached the dusty horseman and inquired eagerly\n",
       "for news from the front.\n",
       "\n",
       "\"The Yanks are repairing the railroads,\" said the man, \"and are\n",
       "getting ready for another advance.  They have reached the Owl Creek\n",
       "bridge, put it in order and built a stockade on the north bank.  The\n",
       "commandant has issued an order, which is posted everywhere, declaring\n",
       "that any civilian caught interfering with the railroad, its bridges,\n",
       "tunnels, or trains will be summarily hanged.  I saw the order.\"\n",
       "\n",
       "\"How far is it to the Owl Creek bridge?\" Farquhar asked.\n",
       "\n",
       "\"About thirty miles.\"\n",
       "\n",
       "\"Is there no force on this side of the creek?\"\n",
       "\n",
       "\"Only a picket post half a mile out, on the railroad, and a single\n",
       "sentinel at this end of the bridge.\"\n",
       "\n",
       "\"Suppose a man--a civilian and student of hanging--should elude the\n",
       "picket post and perhaps get the better of the sentinel,\" said\n",
       "Farquhar, smiling, \"what could he accomplish?\"\n",
       "\n",
       "The soldier reflected.  \"I was there a month ago,\" he replied.  \"I\n",
       "observed that the flood of last winter had lodged a great quantity of\n",
       "driftwood against the wooden pier at this end of the bridge.  It is\n",
       "now dry and would burn like tinder.\"\n",
       "\n",
       "The lady had now brought the water, which the soldier drank. He\n",
       "thanked her ceremoniously, bowed to her husband and rode away.  An\n",
       "hour later, after nightfall, he repassed the plantation, going\n",
       "northward in the direction from which he had come.  He was a Federal\n",
       "scout.\n",
       "\n",
       "III\n",
       "\n",
       "As Peyton Farquhar fell straight downward through the bridge he lost\n",
       "consciousness and was as one already dead. From this state he was\n",
       "awakened--ages later, it seemed to him--by the pain of a sharp\n",
       "pressure upon his throat, followed by a sense of suffocation.  Keen,\n",
       "poignant agonies seemed to shoot from his neck downward through every\n",
       "fiber of his body and limbs.  These pains appeared to flash along well\n",
       "defined lines of ramification and to beat with an inconceivably rapid\n",
       "periodicity.  They seemed like streams of pulsating fire heating him\n",
       "to an intolerable temperature.  As to his head, he was conscious of\n",
       "nothing but a feeling of fullness--of congestion.  These sensations\n",
       "were unaccompanied by thought.  The intellectual part of his nature\n",
       "was already effaced; he had power only to feel, and feeling was\n",
       "torment.  He was conscious of motion. Encompassed in a luminous cloud,\n",
       "of which he was now merely the fiery heart, without material\n",
       "substance, he swung through unthinkable arcs of oscillation, like a\n",
       "vast pendulum.  Then all at once, with terrible suddenness, the light\n",
       "about him shot upward with the noise of a loud splash; a frightful\n",
       "roaring was in his ears, and all was cold and dark.  The power of\n",
       "thought was restored; he knew that the rope had broken and he had\n",
       "fallen into the stream.  There was no additional strangulation; the\n",
       "noose about his neck was already suffocating him and kept the water\n",
       "from his lungs.  To die of hanging at the bottom of a river!--the idea\n",
       "seemed to him ludicrous.  He opened his eyes in the darkness and saw\n",
       "above him a gleam of light, but how distant, how inaccessible!  He was\n",
       "still sinking, for the light became fainter and fainter until it was a\n",
       "mere glimmer.  Then it began to grow and brighten, and he knew that he\n",
       "was rising toward the surface--knew it with reluctance, for he was now\n",
       "very comfortable.  \"To be hanged and drowned,\" he thought, \"that is\n",
       "not so bad; but I do not wish to be shot.  No; I will not be shot;\n",
       "that is not fair.\"\n",
       "\n",
       "He was not conscious of an effort, but a sharp pain in his wrist\n",
       "apprised him that he was trying to free his hands.  He gave the\n",
       "struggle his attention, as an idler might observe the feat of a\n",
       "juggler, without interest in the outcome.  What splendid effort!--what\n",
       "magnificent, what superhuman strength!  Ah, that was a fine endeavor!\n",
       "Bravo!  The cord fell away; his arms parted and floated upward, the\n",
       "hands dimly seen on each side in the growing light.  He watched them\n",
       "with a new interest as first one and then the other pounced upon the\n",
       "noose at his neck.  They tore it away and thrust it fiercely aside,\n",
       "its undulations resembling those of a water snake.  \"Put it back, put\n",
       "it back!\"  He thought he shouted these words to his hands, for the\n",
       "undoing of the noose had been succeeded by the direst pang that he had\n",
       "yet experienced.  His neck ached horribly; his brain was on fire, his\n",
       "heart, which had been fluttering faintly, gave a great leap, trying to\n",
       "force itself out at his mouth.  His whole body was racked and wrenched\n",
       "with an insupportable anguish! But his disobedient hands gave no heed\n",
       "to the command.  They beat the water vigorously with quick, downward\n",
       "strokes, forcing him to the surface.  He felt his head emerge; his\n",
       "eyes were blinded by the sunlight; his chest expanded convulsively,\n",
       "and with a supreme and crowning agony his lungs engulfed a great\n",
       "draught of air, which instantly he expelled in a shriek!\n",
       "\n",
       "He was now in full possession of his physical senses.  They were,\n",
       "indeed, preternaturally keen and alert.  Something in the awful\n",
       "disturbance of his organic system had so exalted and refined them that\n",
       "they made record of things never before perceived.  He felt the\n",
       "ripples upon his face and heard their separate sounds as they struck.\n",
       "He looked at the forest on the bank of the stream, saw the individual\n",
       "trees, the leaves and the veining of each leaf--he saw the very\n",
       "insects upon them:  the locusts, the brilliant bodied flies, the gray\n",
       "spiders stretching their webs from twig to twig.  He noted the\n",
       "prismatic colors in all the dewdrops upon a million blades of grass.\n",
       "The humming of the gnats that danced above the eddies of the stream,\n",
       "the beating of the dragon flies' wings, the strokes of the water\n",
       "spiders' legs, like oars which had lifted their boat--all these made\n",
       "audible music.  A fish slid along beneath his eyes and he heard the\n",
       "rush of its body parting the water.\n",
       "\n",
       "He had come to the surface facing down the stream; in a moment the\n",
       "visible world seemed to wheel slowly round, himself the pivotal point,\n",
       "and he saw the bridge, the fort, the soldiers upon the bridge, the\n",
       "captain, the sergeant, the two privates, his executioners.  They were\n",
       "in silhouette against the blue sky.  They shouted and gesticulated,\n",
       "pointing at him.  The captain had drawn his pistol, but did not fire;\n",
       "the others were unarmed.  Their movements were grotesque and horrible,\n",
       "their forms gigantic.\n",
       "\n",
       "Suddenly he heard a sharp report and something struck the water\n",
       "smartly within a few inches of his head, spattering his face with\n",
       "spray.  He heard a second report, and saw one of the sentinels with\n",
       "his rifle at his shoulder, a light cloud of blue smoke rising from the\n",
       "muzzle.  The man in the water saw the eye of the man on the bridge\n",
       "gazing into his own through the sights of the rifle.  He observed that\n",
       "it was a gray eye and remembered having read that gray eyes were\n",
       "keenest, and that all famous marksmen had them. Nevertheless, this one\n",
       "had missed.\n",
       "\n",
       "A counter-swirl had caught Farquhar and turned him half round; he was\n",
       "again looking at the forest on the bank opposite the fort.  The sound\n",
       "of a clear, high voice in a monotonous singsong now rang out behind\n",
       "him and came across the water with a distinctness that pierced and\n",
       "subdued all other sounds, even the beating of the ripples in his ears.\n",
       "Although no soldier, he had frequented camps enough to know the dread\n",
       "significance of that deliberate, drawling, aspirated chant; the\n",
       "lieutenant on shore was taking a part in the morning's work.  How\n",
       "coldly and pitilessly--with what an even, calm intonation, presaging,\n",
       "and enforcing tranquility in the men--with what accurately measured\n",
       "interval fell those cruel words:\n",
       "\n",
       "\"Company! . . . Attention! . . . Shoulder arms! . . . Ready!. . .\n",
       "Aim! . . . Fire!\"\n",
       "\n",
       "Farquhar dived--dived as deeply as he could.  The water roared in his\n",
       "ears like the voice of Niagara, yet he heard the dull thunder of the\n",
       "volley and, rising again toward the surface, met shining bits of\n",
       "metal, singularly flattened, oscillating slowly downward.  Some of\n",
       "them touched him on the face and hands, then fell away, continuing\n",
       "their descent. One lodged between his collar and neck; it was\n",
       "uncomfortably warm and he snatched it out.\n",
       "\n",
       "As he rose to the surface, gasping for breath, he saw that he had been\n",
       "a long time under water; he was perceptibly farther downstream--nearer\n",
       "to safety.  The soldiers had almost finished reloading; the metal\n",
       "ramrods flashed all at once in the sunshine as they were drawn from\n",
       "the barrels, turned in the air, and thrust into their sockets.  The\n",
       "two sentinels fired again, independently and ineffectually.\n",
       "\n",
       "The hunted man saw all this over his shoulder; he was now swimming\n",
       "vigorously with the current.  His brain was as energetic as his arms\n",
       "and legs; he thought with the rapidity of lightning:\n",
       "\n",
       "\"The officer,\" he reasoned, \"will not make that martinet's error a\n",
       "second time.  It is as easy to dodge a volley as a single shot.  He\n",
       "has probably already given the command to fire at will.  God help me,\n",
       "I cannot dodge them all!\"\n",
       "\n",
       "An appalling splash within two yards of him was followed by a loud,\n",
       "rushing sound, DIMINUENDO, which seemed to travel back through the air\n",
       "to the fort and died in an explosion which stirred the very river to\n",
       "its deeps!  A rising sheet of water curved over him, fell down upon\n",
       "him, blinded him, strangled him!  The cannon had taken an hand in the\n",
       "game.  As he shook his head free from the commotion of the smitten\n",
       "water he heard the deflected shot humming through the air ahead, and\n",
       "in an instant it was cracking and smashing the branches in the forest\n",
       "beyond.\n",
       "\n",
       "\"They will not do that again,\" he thought; \"the next time they will\n",
       "use a charge of grape.  I must keep my eye upon the gun; the smoke\n",
       "will apprise me--the report arrives too late; it lags behind the\n",
       "missile.  That is a good gun.\"\n",
       "\n",
       "Suddenly he felt himself whirled round and round--spinning like a top.\n",
       "The water, the banks, the forests, the now distant bridge, fort and\n",
       "men, all were commingled and blurred.  Objects were represented by\n",
       "their colors only; circular horizontal streaks of color--that was all\n",
       "he saw. He had been caught in a vortex and was being whirled on with a\n",
       "velocity of advance and gyration that made him giddy and sick.  In few\n",
       "moments he was flung upon the gravel at the foot of the left bank of\n",
       "the stream--the southern bank--and behind a projecting point which\n",
       "concealed him from his enemies.  The sudden arrest of his motion, the\n",
       "abrasion of one of his hands on the gravel, restored him, and he wept\n",
       "with delight.  He dug his fingers into the sand, threw it over himself\n",
       "in handfuls and audibly blessed it.  It looked like diamonds, rubies,\n",
       "emeralds; he could think of nothing beautiful which it did not\n",
       "resemble.  The trees upon the bank were giant garden plants; he noted\n",
       "a definite order in their arrangement, inhaled the fragrance of their\n",
       "blooms.  A strange roseate light shone through the spaces among their\n",
       "trunks and the wind made in their branches the music of AEolian harps.\n",
       "He had not wish to perfect his escape--he was content to remain in\n",
       "that enchanting spot until retaken.\n",
       "\n",
       "A whiz and a rattle of grapeshot among the branches high above his\n",
       "head roused him from his dream.  The baffled cannoneer had fired him a\n",
       "random farewell.  He sprang to his feet, rushed up the sloping bank,\n",
       "and plunged into the forest.\n",
       "\n",
       "All that day he traveled, laying his course by the rounding sun.  The\n",
       "forest seemed interminable; nowhere did he discover a break in it, not\n",
       "even a woodman's road.  He had not known that he lived in so wild a\n",
       "region.  There was something uncanny in the revelation.\n",
       "\n",
       "By nightfall he was fatigued, footsore, famished.  The thought of his\n",
       "wife and children urged him on.  At last he found a road which led him\n",
       "in what he knew to be the right direction.  It was as wide and\n",
       "straight as a city street, yet it seemed untraveled.  No fields\n",
       "bordered it, no dwelling anywhere.  Not so much as the barking of a\n",
       "dog suggested human habitation.  The black bodies of the trees formed\n",
       "a straight wall on both sides, terminating on the horizon in a point,\n",
       "like a diagram in a lesson in perspective.  Overhead, as he looked up\n",
       "through this rift in the wood, shone great golden stars looking\n",
       "unfamiliar and grouped in strange constellations.  He was sure they\n",
       "were arranged in some order which had a secret and malign\n",
       "significance.  The wood on either side was full of singular noises,\n",
       "among which--once, twice, and again--he distinctly heard whispers in\n",
       "an unknown tongue.\n",
       "\n",
       "His neck was in pain and lifting his hand to it found it horribly\n",
       "swollen.  He knew that it had a circle of black where the rope had\n",
       "bruised it.  His eyes felt congested; he could no longer close them.\n",
       "His tongue was swollen with thirst; he relieved its fever by thrusting\n",
       "it forward from between his teeth into the cold air.  How softly the\n",
       "turf had carpeted the untraveled avenue--he could no longer feel the\n",
       "roadway beneath his feet!\n",
       "\n",
       "Doubtless, despite his suffering, he had fallen asleep while walking,\n",
       "for now he sees another scene--perhaps he has merely recovered from a\n",
       "delirium.  He stands at the gate of his own home.  All is as he left\n",
       "it, and all bright and beautiful in the morning sunshine.  He must\n",
       "have traveled the entire night.  As he pushes open the gate and passes\n",
       "up the wide white walk, he sees a flutter of female garments; his\n",
       "wife, looking fresh and cool and sweet, steps down from the veranda to\n",
       "meet him.  At the bottom of the steps she stands waiting, with a smile\n",
       "of ineffable joy, an attitude of matchless grace and dignity.  Ah, how\n",
       "beautiful she is!  He springs forwards with extended arms.  As he is\n",
       "about to clasp her he feels a stunning blow upon the back of the neck;\n",
       "a blinding white light blazes all about him with a sound like the\n",
       "shock of a cannon--then all is darkness and silence!\n",
       "\n",
       "Peyton Farquhar was dead; his body, with a broken neck, swung gently\n",
       "from side to side beneath the timbers of the Owl Creek bridge.\n"
      ]
     },
     "execution_count": 39,
     "metadata": {},
     "output_type": "execute_result"
    }
   ],
   "source": [
    "doc[start1-10:]"
   ]
  },
  {
   "cell_type": "code",
   "execution_count": 30,
   "metadata": {},
   "outputs": [
    {
     "name": "stdout",
     "output_type": "stream",
     "text": [
      "saw all this over his shoulder; he was now swimming\n",
      "vigorously with the current.  His brain was as energetic\n"
     ]
    }
   ],
   "source": [
    "match_id2, start2, end2 = found_matches[1]\n",
    "span2 = doc[start2-10:end2+10]\n",
    "print(span2)"
   ]
  },
  {
   "cell_type": "markdown",
   "metadata": {},
   "source": [
    "**EXTRA CREDIT:<br>Print the *sentence* that contains each found match**"
   ]
  },
  {
   "cell_type": "code",
   "execution_count": 41,
   "metadata": {},
   "outputs": [
    {
     "name": "stdout",
     "output_type": "stream",
     "text": [
      "0 13\n",
      "AN OCCURRENCE AT OWL CREEK BRIDGE\n",
      "\n",
      "by Ambrose Bierce\n",
      "\n",
      "I\n",
      "\n",
      "\n",
      "A man stood upon a railroad bridge in northern Alabama, looking down\n",
      "into the swift water twenty feet below.  \n",
      "The man's hands were behind\n",
      "his back, the wrists bound with a cord.  \n",
      "A rope closely encircled his\n",
      "neck.  \n",
      "It was attached to a stout cross-timber above his head and the\n",
      "slack fell to the level of his knees.  \n",
      "Some loose boards laid upon the\n",
      "ties supporting the rails of the railway supplied a footing for him\n",
      "and his executioners--two private soldiers of the Federal army,\n",
      "directed by a sergeant who in civil life may have been a deputy\n",
      "sheriff.  \n",
      "At a short remove upon the same temporary platform was an\n",
      "officer in the uniform of his rank, armed.  \n",
      "He was a captain.  \n",
      "A\n",
      "sentinel at each end of the bridge stood with his rifle in the\n",
      "position known as \"support,\" that is to say, vertical in front of the\n",
      "left shoulder, the hammer resting on the forearm thrown straight\n",
      "across the chest--a formal and unnatural position, enforcing an erect\n",
      "carriage of the body.  \n",
      "It did not appear to be the duty of these two\n",
      "men to know what was occurring at the center of the bridge; they\n",
      "merely blockaded the two ends of the foot planking that traversed it.\n",
      "\n",
      "\n",
      "Beyond one of the sentinels nobody was in sight; the railroad ran\n",
      "straight away into a forest for a hundred yards, then, curving, was\n",
      "lost to view.  \n",
      "Doubtless there was an outpost farther along.  \n",
      "The\n",
      "other bank of the stream was open ground--a gentle slope topped with\n",
      "a stockade of vertical tree trunks, loopholed for rifles, with a\n",
      "single embrasure through which protruded the muzzle of a brass cannon\n",
      "commanding the bridge.  \n",
      "Midway up the slope between the bridge and\n",
      "fort were the spectators--a single company of infantry in line, at\n",
      "\"parade rest,\" the butts of their rifles on the ground, the barrels\n",
      "inclining slightly backward against the right shoulder, the hands\n",
      "crossed upon the stock.\n",
      "A lieutenant stood at the right of the line,\n",
      "the point of his sword upon the ground, his left hand resting upon his\n",
      "right.  \n",
      "Excepting the group of four at the center of the bridge, not a\n",
      "man moved.  \n",
      "The company faced the bridge, staring stonily, motionless.\n",
      "\n",
      "The sentinels, facing the banks of the stream, might have been statues\n",
      "to adorn the bridge.  \n",
      "The captain stood with folded arms, silent,\n",
      "observing the work of his subordinates, but making no sign.\n",
      "Death is a\n",
      "dignitary who when he comes announced is to be received with formal\n",
      "manifestations of respect, even by those most familiar with him.  \n",
      "In\n",
      "the code of military etiquette silence and fixity are forms of\n",
      "deference.\n",
      "\n",
      "\n",
      "The man who was engaged in being hanged was apparently about\n",
      "thirty-five years of age.  \n",
      "He was a civilian, if one might judge from\n",
      "his habit, which was that of a planter.  \n",
      "His features were good--a\n",
      "straight nose, firm mouth, broad forehead, from which his long, dark\n",
      "hair was combed straight back, falling behind his ears to the collar\n",
      "of his well fitting frock coat.  \n",
      "He wore a moustache and pointed\n",
      "beard, but no whiskers; his eyes were large and dark gray, and had a\n",
      "kindly expression which one would hardly have expected in one whose\n",
      "neck was in the hemp.  \n",
      "Evidently this was no vulgar assassin.  \n",
      "The\n",
      "liberal military code makes provision for hanging many kinds of\n",
      "persons, and gentlemen are not excluded.\n",
      "\n",
      "\n",
      "The preparations being complete, the two private soldiers stepped\n",
      "aside and each drew away the plank upon which he had been standing.\n",
      "\n",
      "The sergeant turned to the captain, saluted and placed himself\n",
      "immediately behind that officer, who in turn moved apart one pace.\n",
      "\n",
      "These movements left the condemned man and the sergeant standing on\n",
      "the two ends of the same plank, which spanned three of the cross-ties\n",
      "of the bridge.  \n",
      "The end upon which the civilian stood almost, but not\n",
      "quite, reached a fourth.  \n",
      "This plank had been held in place by the\n",
      "weight of the captain; it was now held by that of the sergeant.  \n",
      "At a\n",
      "signal from the former the latter would step aside, the plank would\n",
      "tilt and the condemned man go down between two ties.  \n",
      "The arrangement\n",
      "commended itself to his judgement as simple and effective.  \n",
      "His face\n",
      "had not been covered nor his eyes bandaged.  \n",
      "He looked a moment at his\n",
      "\"unsteadfast footing,\" then let his gaze wander to the swirling water\n",
      "of the stream racing madly beneath his feet.\n",
      "A piece of dancing\n",
      "driftwood caught his attention and his eyes followed it down the\n",
      "current.  \n",
      "How slowly it appeared to move!  \n",
      "What a sluggish stream!\n",
      "\n",
      "\n",
      "He closed his eyes in order to fix his last thoughts upon his wife and\n",
      "children.  \n",
      "The water, touched to gold by the early sun, the brooding\n",
      "mists under the banks at some distance down the stream, the fort, the\n",
      "soldiers, the piece of drift--all had distracted him.  \n",
      "And now he\n",
      "became conscious of a new disturbance.  \n",
      "Striking through the thought\n",
      "of his dear ones was sound which he could neither ignore nor\n",
      "understand, a sharp, distinct, metallic percussion like the stroke of\n",
      "a blacksmith's hammer upon the anvil; it had the same ringing quality.\n",
      "\n",
      "He wondered what it was, and whether immeasurably distant or near by--\n",
      "it seemed both.  \n",
      "Its recurrence was regular, but as slow as the\n",
      "tolling of a death knell.  \n",
      "He awaited each new stroke with impatience\n",
      "and--he knew not why--apprehension.  \n",
      "The intervals of silence grew\n",
      "progressively longer; the delays became maddening.  \n",
      "With their greater\n",
      "infrequency the sounds increased in strength and sharpness.  \n",
      "They hurt\n",
      "his ear like the thrust of a knife; he feared he would shriek.  \n",
      "What he\n",
      "heard was the ticking of his watch.\n",
      "\n",
      "\n",
      "He unclosed his eyes and saw again the water below him.  \n",
      "\"If I could\n",
      "free my hands,\" he thought, \"I might throw off the noose and spring\n",
      "into the stream.  \n"
     ]
    }
   ],
   "source": [
    "sents = [sent for sent in doc.sents]\n",
    "print(sents[0].start, sents[0].end)\n",
    "for sent in sents:\n",
    "    if start1 > sent.end:\n",
    "        print(sent)"
   ]
  },
  {
   "cell_type": "code",
   "execution_count": 19,
   "metadata": {},
   "outputs": [
    {
     "name": "stdout",
     "output_type": "stream",
     "text": [
      "The hunted man saw all this over his shoulder; he was now swimming\n",
      "vigorously with the current.  \n"
     ]
    }
   ],
   "source": [
    "\n",
    "\n",
    "\n"
   ]
  },
  {
   "cell_type": "markdown",
   "metadata": {},
   "source": [
    "### Great Job!"
   ]
  }
 ],
 "metadata": {
  "kernelspec": {
   "display_name": "Python 3 (ipykernel)",
   "language": "python",
   "name": "python3"
  },
  "language_info": {
   "codemirror_mode": {
    "name": "ipython",
    "version": 3
   },
   "file_extension": ".py",
   "mimetype": "text/x-python",
   "name": "python",
   "nbconvert_exporter": "python",
   "pygments_lexer": "ipython3",
   "version": "3.7.13"
  }
 },
 "nbformat": 4,
 "nbformat_minor": 2
}
